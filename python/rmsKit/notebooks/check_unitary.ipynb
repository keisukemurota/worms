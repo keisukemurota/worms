{
 "cells": [
  {
   "cell_type": "code",
   "execution_count": 22,
   "metadata": {},
   "outputs": [],
   "source": [
    "import numpy as np"
   ]
  },
  {
   "cell_type": "code",
   "execution_count": 91,
   "metadata": {},
   "outputs": [],
   "source": [
    "u = np.load(\"../array/torch/BLBQ1D_loc.pbc/J0_1_J1_0.9_hx_1_hz_0/1_mel/Adam/lr_0.001_epoch_10000/loss_0.0000008/u/0.npy\")\n",
    "h = np.load(\"../array/torch/BLBQ1D_loc.pbc/J0_1_J1_0.9_hx_1_hz_0/1_mel/H/0.npy\")\n",
    "h = h + np.identity(9) * 10\n",
    "\n"
   ]
  },
  {
   "cell_type": "code",
   "execution_count": 94,
   "metadata": {},
   "outputs": [
    {
     "data": {
      "text/plain": [
       "array([[-0.707, -0.   ,  0.707],\n",
       "       [-0.5  , -0.707, -0.5  ],\n",
       "       [ 0.5  , -0.707,  0.5  ]])"
      ]
     },
     "execution_count": 94,
     "metadata": {},
     "output_type": "execute_result"
    }
   ],
   "source": [
    "U = np.kron(u, u)\n",
    "# np.round(U @ h @ U.T, 5)\n",
    "np.round(u, 3)"
   ]
  },
  {
   "cell_type": "code",
   "execution_count": 89,
   "metadata": {},
   "outputs": [
    {
     "data": {
      "text/plain": [
       "array([ 7.99999998,  8.00000003,  8.0000001 ,  8.00000012, 10.        ,\n",
       "       10.        , 10.00000003, 12.        , 12.        ])"
      ]
     },
     "execution_count": 89,
     "metadata": {},
     "output_type": "execute_result"
    }
   ],
   "source": [
    "\n",
    "np.linalg.eigvalsh(h)\n",
    "\n",
    "np.linalg.eigvalsh(np.abs(U @ h @ U.T))\n",
    "\n",
    "\n"
   ]
  },
  {
   "cell_type": "code",
   "execution_count": null,
   "metadata": {},
   "outputs": [],
   "source": []
  }
 ],
 "metadata": {
  "kernelspec": {
   "display_name": "py310",
   "language": "python",
   "name": "python3"
  },
  "language_info": {
   "codemirror_mode": {
    "name": "ipython",
    "version": 3
   },
   "file_extension": ".py",
   "mimetype": "text/x-python",
   "name": "python",
   "nbconvert_exporter": "python",
   "pygments_lexer": "ipython3",
   "version": "3.10.13"
  }
 },
 "nbformat": 4,
 "nbformat_minor": 2
}
