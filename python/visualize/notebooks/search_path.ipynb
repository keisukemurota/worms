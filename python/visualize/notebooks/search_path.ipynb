{
 "cells": [
  {
   "cell_type": "code",
   "execution_count": 1,
   "id": "0ddc3c98",
   "metadata": {},
   "outputs": [],
   "source": [
    "from pathlib import Path\n",
    "\n",
    "rmskit_path = Path(\"/Users/keisuke/Documents/projects/todo/worms/python/rmsKit\")\n",
    "if not rmskit_path.exists():\n",
    "    raise FileNotFoundError(f\"rmskit_path does not exist: {rmskit_path}\")\n",
    "\n",
    "import sys\n",
    "sys.path.append(rmskit_path.as_posix())"
   ]
  },
  {
   "cell_type": "code",
   "execution_count": 2,
   "id": "2267b39b",
   "metadata": {},
   "outputs": [
    {
     "name": "stdout",
     "output_type": "stream",
     "text": [
      "[(2e-07, PosixPath('/Users/keisuke/Documents/projects/todo/worms/python/rmsKit/array/quetta/MG1D_loc.bak/J1_1_J2_0.2_J3_0.4/2_mel/Adam/lr_0.007_epoch_2000/loss_0.0000002/u')), (2e-07, PosixPath('/Users/keisuke/Documents/projects/todo/worms/python/rmsKit/array/quetta/MG1D_loc.bak/J1_1_J2_0.2_J3_0.4/2_mel/Adam/lr_0.003_epoch_5000/loss_0.0000002/u')), (0.0154693, PosixPath('/Users/keisuke/Documents/projects/todo/worms/python/rmsKit/array/quetta/MG1D_loc.bak/J1_1_J2_0.2_J3_0.4/2_mel/Adam/lr_0.003_epoch_5000/loss_0.0154693/u')), (0.0154697, PosixPath('/Users/keisuke/Documents/projects/todo/worms/python/rmsKit/array/quetta/MG1D_loc.bak/J1_1_J2_0.2_J3_0.4/2_mel/Adam/lr_0.003_epoch_5000/loss_0.0154697/u')), (0.0154699, PosixPath('/Users/keisuke/Documents/projects/todo/worms/python/rmsKit/array/quetta/MG1D_loc.bak/J1_1_J2_0.2_J3_0.4/2_mel/Adam/lr_0.003_epoch_5000/loss_0.0154699/u')), (0.0154703, PosixPath('/Users/keisuke/Documents/projects/todo/worms/python/rmsKit/array/quetta/MG1D_loc.bak/J1_1_J2_0.2_J3_0.4/2_mel/Adam/lr_0.007_epoch_2000/loss_0.0154703/u')), (0.0154708, PosixPath('/Users/keisuke/Documents/projects/todo/worms/python/rmsKit/array/quetta/MG1D_loc.bak/J1_1_J2_0.2_J3_0.4/2_mel/Adam/lr_0.003_epoch_5000/loss_0.0154708/u')), (0.0154709, PosixPath('/Users/keisuke/Documents/projects/todo/worms/python/rmsKit/array/quetta/MG1D_loc.bak/J1_1_J2_0.2_J3_0.4/2_mel/Adam/lr_0.003_epoch_5000/loss_0.0154709/u')), (0.015471, PosixPath('/Users/keisuke/Documents/projects/todo/worms/python/rmsKit/array/quetta/MG1D_loc.bak/J1_1_J2_0.2_J3_0.4/2_mel/Adam/lr_0.003_epoch_5000/loss_0.0154710/u')), (0.0154715, PosixPath('/Users/keisuke/Documents/projects/todo/worms/python/rmsKit/array/quetta/MG1D_loc.bak/J1_1_J2_0.2_J3_0.4/2_mel/Adam/lr_0.003_epoch_5000/loss_0.0154715/u'))]\n"
     ]
    }
   ],
   "source": [
    "from importlib import reload\n",
    "import utils\n",
    "reload(utils)\n",
    "search_path = Path(\"/Users/keisuke/Documents/projects/todo/worms/python/rmsKit/array/quetta/MG1D_loc.bak/J1_1_J2_0.2_J3_0.4/\")\n",
    "worm_path = utils.path.top_k_upath(search_path)\n",
    "print(worm_path)\n"
   ]
  },
  {
   "cell_type": "code",
   "execution_count": null,
   "id": "1ee9e132",
   "metadata": {},
   "outputs": [],
   "source": []
  }
 ],
 "metadata": {
  "kernelspec": {
   "display_name": "Python 3 (ipykernel)",
   "language": "python",
   "name": "python3"
  },
  "language_info": {
   "codemirror_mode": {
    "name": "ipython",
    "version": 3
   },
   "file_extension": ".py",
   "mimetype": "text/x-python",
   "name": "python",
   "nbconvert_exporter": "python",
   "pygments_lexer": "ipython3",
   "version": "3.10.13"
  }
 },
 "nbformat": 4,
 "nbformat_minor": 5
}
